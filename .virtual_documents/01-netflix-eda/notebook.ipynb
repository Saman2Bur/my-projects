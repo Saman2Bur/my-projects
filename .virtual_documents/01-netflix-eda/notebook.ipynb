





# Importing pandas and matplotlib
import pandas as pd
import matplotlib.pyplot as plt

# Read in the Netflix CSV as a DataFrame
netflix_df = pd.read_csv("netflix_data.csv")

# Check the DataFrame
netflix_df.head()


# Finding the 1990s movies
netflix_movies = netflix_df[netflix_df['type'] == 'Movie']
movies_1990s = netflix_movies[(netflix_movies['release_year'] >= 1990) &
(netflix_movies['release_year'] < 2000)]


# Plot a Histogram to find the most frequent movie duration in the 1990s
plt.hist(movies_1990s['duration'])
plt.xlabel('Duration')
plt.ylabel('Number of Movies')
plt.title('Movie Duration in the 1990s')
plt.show()
duration = 100
print(f'The most frequent movie duration in 1990s is : {duration}')


# Finding the number of short action movies released in the 1990s
action_movies = movies_1990s[movies_1990s['genre'] == 'Action']
short_action_movies = action_movies[action_movies['duration'] < 90]
short_movie_count = len(short_action_movies)
print(f'The number of short action movies released in the 1990s is : {short_movie_count}')
